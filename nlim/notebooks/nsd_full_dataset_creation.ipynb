{
 "cells": [
  {
   "cell_type": "code",
   "execution_count": 1,
   "id": "10b0db3a-94ec-44df-9092-32baba702478",
   "metadata": {
    "tags": []
   },
   "outputs": [
    {
     "name": "stdout",
     "output_type": "stream",
     "text": [
      "device: cuda\n"
     ]
    }
   ],
   "source": [
    "import time \n",
    "from subprocess import call\n",
    "import numpy as np\n",
    "import matplotlib.pyplot as plt\n",
    "# import cv2\n",
    "import h5py\n",
    "import os\n",
    "import copy\n",
    "\n",
    "from tqdm import tqdm\n",
    "from PIL import Image\n",
    "from sklearn.preprocessing import StandardScaler\n",
    "\n",
    "import webdataset as wds\n",
    "import sys\n",
    "\n",
    "from nsd_access import NSDAccess\n",
    "nsd_path = '/scratch/gpfs/KNORMAN/natural-scenes-dataset'\n",
    "nsda = NSDAccess(nsd_path)\n",
    "\n",
    "import nibabel as nib\n",
    "\n",
    "import torch\n",
    "device = torch.device('cuda' if torch.cuda.is_available() else 'cpu')\n",
    "print(\"device:\",device)"
   ]
  },
  {
   "cell_type": "code",
   "execution_count": 2,
   "id": "d5b1c223-e4dc-495f-a38f-a342b4c89a5c",
   "metadata": {
    "tags": []
   },
   "outputs": [],
   "source": [
    "tmp = '/scratch/gpfs/KNORMAN'\n",
    "\n",
    "shared1000 = np.load(\"shared1000.npy\")"
   ]
  },
  {
   "cell_type": "code",
   "execution_count": 3,
   "id": "391a3156-ed8e-4525-a9c9-a073ce6f39d3",
   "metadata": {
    "tags": []
   },
   "outputs": [],
   "source": [
    "# import pandas as pd\n",
    "# shared1000 = pd.read_csv(f'{tmp}/natural-scenes-dataset/nsddata/experiments/nsd/nsd_stim_info_merged.csv')['shared1000'].values\n",
    "# np.save(\"shared1000\",shared1000)"
   ]
  },
  {
   "cell_type": "code",
   "execution_count": 4,
   "id": "c9c5aff2-4677-4847-9cdb-bfc0db625a9b",
   "metadata": {
    "tags": []
   },
   "outputs": [],
   "source": [
    "# from torchvision import transforms\n",
    "\n",
    "# # load orig images\n",
    "# f = h5py.File(f'{tmp}/natural-scenes-dataset/nsddata_stimuli/stimuli/nsd/nsd_stimuli.hdf5', 'r')\n",
    "# images = f['imgBrick']\n",
    "\n",
    "# image_matrix = None\n",
    "# for ii in tqdm(range(0,73000,200)):\n",
    "#     im = images[ii:ii+200]\n",
    "#     imT = (transforms.Resize((224,224))(torch.Tensor(im).permute(0,-1,1,2)) / 255).half()\n",
    "#     if image_matrix is None:\n",
    "#         image_matrix = imT\n",
    "#     else:\n",
    "#         image_matrix = torch.vstack((image_matrix, imT))\n",
    "        \n",
    "# image_matrix = image_matrix.numpy()\n",
    "# print(image_matrix.shape)\n",
    "\n",
    "# with h5py.File('coco_images_224_float16.hdf5', 'w') as file:\n",
    "#     file.create_dataset('images', data=image_matrix, shape=image_matrix.shape, dtype=np.float16)"
   ]
  },
  {
   "cell_type": "code",
   "execution_count": 5,
   "id": "607e5e81-6100-46a3-8a0c-38e75ce69e07",
   "metadata": {},
   "outputs": [],
   "source": [
    "# # spatial coordinates\n",
    "# # https://github.com/huzeyann/MemoryEncodingModel/blob/127b99c73634f89c570eaac67d44ea554b48b59e/mem/point_pe.py\n",
    "# def sinusoidal(positions, features=16, periods=10000):\n",
    "#     \"\"\"Encode `positions` using sinusoidal positional encoding\n",
    "\n",
    "#     Args:\n",
    "#         positions: tensor of positions\n",
    "#         features: half the number of features per position\n",
    "#         periods: used frequencies for the sinusoidal functions\n",
    "\n",
    "#     Returns:\n",
    "#         Positional encoding of shape `(*positions.shape, features, 2)`\n",
    "#     \"\"\"\n",
    "#     dtype = positions.dtype if positions.is_floating_point() else None\n",
    "#     kwargs = dict(device=positions.device, dtype=dtype)\n",
    "#     omega = torch.logspace(0, 1 / features - 1, features, periods, **kwargs)\n",
    "#     fraction = omega * positions.unsqueeze(-1)\n",
    "#     return torch.stack((fraction.sin(), fraction.cos()), dim=-1)\n",
    "\n",
    "# def point_pe(points, low=0, high=1, steps=100, features=16, periods=10000):\n",
    "#     \"\"\"Encode points in bounded space using sinusoidal positional encoding\n",
    "\n",
    "#     Args:\n",
    "#         points: tensor of points; typically of shape (*, C)\n",
    "#         low: lower bound of the space; typically of shape (C,)\n",
    "#         high: upper bound of the space; typically of shape (C,)\n",
    "#         steps: number of cells that split the space; typically of shape (C,)\n",
    "#         features: half the number of features per position\n",
    "#         periods: used frequencies for the sinusoidal functions\n",
    "\n",
    "#     Returns:\n",
    "#         Positional encoded points of the following shape:\n",
    "#         `(*points.shape[:-1], points.shape[-1] * features * 2)`\n",
    "#     \"\"\"\n",
    "#     positions = (points - low).mul_(steps / (high - low))\n",
    "#     return sinusoidal(positions, features, periods).flatten(-3)\n",
    "\n",
    "# def point_position_encoding(points, max_steps=100, features=16, periods=10000):\n",
    "#     low = points.min(0).values\n",
    "#     high = points.max(0).values\n",
    "#     steps = high - low\n",
    "#     steps *= max_steps / steps.max()\n",
    "#     pe = point_pe(points, low, high, steps, features, periods)\n",
    "#     return pe\n",
    "\n",
    "# for sub in [0,1,2,3,4,5,6,7]:\n",
    "#     subject=f'subj0{sub+1}'\n",
    "#     subj=subject\n",
    "#     print(subject)\n",
    "#     tar=0\n",
    "#     sess=tar+1\n",
    "\n",
    "#     # pull single-trial betas and mask them\n",
    "#     betas = nsda.read_betas(subject=subject, \n",
    "#                         session_index=sess, \n",
    "#                         trial_index=[], # empty list as index means get all for this session\n",
    "#                         data_type='betas_fithrf', # GLMSingle beta2\n",
    "#                         data_format='func1pt8mm') \n",
    "\n",
    "#     vox_include = np.load(f\"vox_include_{subject}.npy\")"
   ]
  },
  {
   "cell_type": "code",
   "execution_count": 3,
   "id": "c1cbf40e-b141-4af0-8291-5e61954310f7",
   "metadata": {
    "tags": []
   },
   "outputs": [],
   "source": [
    "downsampling = True\n",
    "if downsampling: \n",
    "    from scipy.ndimage import convolve\n",
    "    down_scale = 5 # 11 is 2cm, 5 is 1cm"
   ]
  },
  {
   "cell_type": "code",
   "execution_count": 3,
   "id": "a8130160-464f-4786-9df6-af3020e576fa",
   "metadata": {},
   "outputs": [],
   "source": [
    "downsampling, use_raw = False, False"
   ]
  },
  {
   "cell_type": "code",
   "execution_count": 7,
   "id": "b232f130-d3b1-4368-a21c-f5c47c71d463",
   "metadata": {
    "tags": []
   },
   "outputs": [],
   "source": [
    "# use_raw = True\n",
    "\n",
    "# need to get the image onset times \n",
    "\n",
    "# raw_data = None\n",
    "# for run in range(1,13):\n",
    "#     if run < 10:\n",
    "#         run = \"0\" + str(run)\n",
    "#     raw_datum = nib.load(f\"{nsd_path}/nsddata_rawdata/sub-01/ses-nsd01/func/sub-01_ses-nsd01_task-nsdcore_run-{run}_bold.nii.gz\").get_fdata()\n",
    "#     if raw_data is None:\n",
    "#         raw_data = raw_datum\n",
    "#     else:\n",
    "#         raw_data = np.vstack((raw_data, raw_datum))\n",
    "#     print(run, raw_data.shape)\n",
    "    \n",
    "# # time shift and take BOLD after 4.8 seconds\n",
    "# # raw_data = raw_data[3:][::3]\n",
    "# print(raw_data[3:][::3].shape)"
   ]
  },
  {
   "cell_type": "code",
   "execution_count": 9,
   "id": "89562194-524e-449f-8733-36347809c73a",
   "metadata": {
    "tags": []
   },
   "outputs": [
    {
     "name": "stderr",
     "output_type": "stream",
     "text": [
      "/tmp/ipykernel_1109141/4190173179.py:24: DeprecationWarning: get_data() is deprecated in favor of get_fdata(), which has a more predictable return type. To obtain get_data() behavior going forward, use numpy.asanyarray(img.dataobj).\n",
      "\n",
      "* deprecated from version: 3.0\n",
      "* Will raise <class 'nibabel.deprecator.ExpiredDeprecationError'> as of version: 5.0\n",
      "  mask = nifti.get_data()\n",
      "/tmp/ipykernel_1109141/4190173179.py:30: DeprecationWarning: get_data() is deprecated in favor of get_fdata(), which has a more predictable return type. To obtain get_data() behavior going forward, use numpy.asanyarray(img.dataobj).\n",
      "\n",
      "* deprecated from version: 3.0\n",
      "* Will raise <class 'nibabel.deprecator.ExpiredDeprecationError'> as of version: 5.0\n",
      "  mask = nifti.get_data()\n"
     ]
    },
    {
     "name": "stdout",
     "output_type": "stream",
     "text": [
      "subj01\n",
      "37 27750\n",
      "\n",
      "Current time: 11:06:23\n"
     ]
    },
    {
     "name": "stderr",
     "output_type": "stream",
     "text": [
      "  0%|                                                    | 0/37 [00:00<?, ?it/s]"
     ]
    },
    {
     "name": "stdout",
     "output_type": "stream",
     "text": [
      "voxels left: 370503\n",
      "voxels left after ncsnr thresholding: 49329\n"
     ]
    },
    {
     "name": "stderr",
     "output_type": "stream",
     "text": [
      "  3%|█▏                                          | 1/37 [00:07<04:30,  7.51s/it]"
     ]
    },
    {
     "name": "stdout",
     "output_type": "stream",
     "text": [
      "(750, 49329)\n"
     ]
    },
    {
     "name": "stderr",
     "output_type": "stream",
     "text": [
      "  5%|██▍                                         | 2/37 [00:15<04:25,  7.58s/it]"
     ]
    },
    {
     "name": "stdout",
     "output_type": "stream",
     "text": [
      "(750, 49329)\n"
     ]
    },
    {
     "name": "stderr",
     "output_type": "stream",
     "text": [
      "  8%|███▌                                        | 3/37 [00:22<04:17,  7.58s/it]"
     ]
    },
    {
     "name": "stdout",
     "output_type": "stream",
     "text": [
      "(750, 49329)\n"
     ]
    },
    {
     "name": "stderr",
     "output_type": "stream",
     "text": [
      " 11%|████▊                                       | 4/37 [00:30<04:09,  7.56s/it]"
     ]
    },
    {
     "name": "stdout",
     "output_type": "stream",
     "text": [
      "(750, 49329)\n"
     ]
    },
    {
     "name": "stderr",
     "output_type": "stream",
     "text": [
      " 14%|█████▉                                      | 5/37 [00:37<04:01,  7.56s/it]"
     ]
    },
    {
     "name": "stdout",
     "output_type": "stream",
     "text": [
      "(750, 49329)\n"
     ]
    },
    {
     "name": "stderr",
     "output_type": "stream",
     "text": [
      " 16%|███████▏                                    | 6/37 [00:45<03:54,  7.57s/it]"
     ]
    },
    {
     "name": "stdout",
     "output_type": "stream",
     "text": [
      "(750, 49329)\n"
     ]
    },
    {
     "name": "stderr",
     "output_type": "stream",
     "text": [
      " 19%|████████▎                                   | 7/37 [00:52<03:46,  7.55s/it]"
     ]
    },
    {
     "name": "stdout",
     "output_type": "stream",
     "text": [
      "(750, 49329)\n"
     ]
    },
    {
     "name": "stderr",
     "output_type": "stream",
     "text": [
      " 22%|█████████▌                                  | 8/37 [01:00<03:38,  7.55s/it]"
     ]
    },
    {
     "name": "stdout",
     "output_type": "stream",
     "text": [
      "(750, 49329)\n"
     ]
    },
    {
     "name": "stderr",
     "output_type": "stream",
     "text": [
      " 24%|██████████▋                                 | 9/37 [01:07<03:30,  7.53s/it]"
     ]
    },
    {
     "name": "stdout",
     "output_type": "stream",
     "text": [
      "(750, 49329)\n"
     ]
    },
    {
     "name": "stderr",
     "output_type": "stream",
     "text": [
      " 27%|███████████▌                               | 10/37 [01:15<03:23,  7.52s/it]"
     ]
    },
    {
     "name": "stdout",
     "output_type": "stream",
     "text": [
      "(750, 49329)\n"
     ]
    },
    {
     "name": "stderr",
     "output_type": "stream",
     "text": [
      " 30%|████████████▊                              | 11/37 [01:22<03:15,  7.52s/it]"
     ]
    },
    {
     "name": "stdout",
     "output_type": "stream",
     "text": [
      "(750, 49329)\n"
     ]
    },
    {
     "name": "stderr",
     "output_type": "stream",
     "text": [
      " 32%|█████████████▉                             | 12/37 [01:30<03:08,  7.53s/it]"
     ]
    },
    {
     "name": "stdout",
     "output_type": "stream",
     "text": [
      "(750, 49329)\n"
     ]
    },
    {
     "name": "stderr",
     "output_type": "stream",
     "text": [
      " 35%|███████████████                            | 13/37 [01:38<03:00,  7.53s/it]"
     ]
    },
    {
     "name": "stdout",
     "output_type": "stream",
     "text": [
      "(750, 49329)\n"
     ]
    },
    {
     "name": "stderr",
     "output_type": "stream",
     "text": [
      " 38%|████████████████▎                          | 14/37 [01:45<02:53,  7.55s/it]"
     ]
    },
    {
     "name": "stdout",
     "output_type": "stream",
     "text": [
      "(750, 49329)\n"
     ]
    },
    {
     "name": "stderr",
     "output_type": "stream",
     "text": [
      " 41%|█████████████████▍                         | 15/37 [01:53<02:46,  7.57s/it]"
     ]
    },
    {
     "name": "stdout",
     "output_type": "stream",
     "text": [
      "(750, 49329)\n"
     ]
    },
    {
     "name": "stderr",
     "output_type": "stream",
     "text": [
      " 43%|██████████████████▌                        | 16/37 [02:00<02:38,  7.56s/it]"
     ]
    },
    {
     "name": "stdout",
     "output_type": "stream",
     "text": [
      "(750, 49329)\n"
     ]
    },
    {
     "name": "stderr",
     "output_type": "stream",
     "text": [
      " 46%|███████████████████▊                       | 17/37 [02:08<02:30,  7.54s/it]"
     ]
    },
    {
     "name": "stdout",
     "output_type": "stream",
     "text": [
      "(750, 49329)\n"
     ]
    },
    {
     "name": "stderr",
     "output_type": "stream",
     "text": [
      " 49%|████████████████████▉                      | 18/37 [02:15<02:23,  7.53s/it]"
     ]
    },
    {
     "name": "stdout",
     "output_type": "stream",
     "text": [
      "(750, 49329)\n"
     ]
    },
    {
     "name": "stderr",
     "output_type": "stream",
     "text": [
      " 51%|██████████████████████                     | 19/37 [02:23<02:15,  7.55s/it]"
     ]
    },
    {
     "name": "stdout",
     "output_type": "stream",
     "text": [
      "(750, 49329)\n"
     ]
    },
    {
     "name": "stderr",
     "output_type": "stream",
     "text": [
      " 54%|███████████████████████▏                   | 20/37 [02:30<02:08,  7.54s/it]"
     ]
    },
    {
     "name": "stdout",
     "output_type": "stream",
     "text": [
      "(750, 49329)\n"
     ]
    },
    {
     "name": "stderr",
     "output_type": "stream",
     "text": [
      " 57%|████████████████████████▍                  | 21/37 [02:38<02:00,  7.54s/it]"
     ]
    },
    {
     "name": "stdout",
     "output_type": "stream",
     "text": [
      "(750, 49329)\n"
     ]
    },
    {
     "name": "stderr",
     "output_type": "stream",
     "text": [
      " 59%|█████████████████████████▌                 | 22/37 [02:46<01:53,  7.54s/it]"
     ]
    },
    {
     "name": "stdout",
     "output_type": "stream",
     "text": [
      "(750, 49329)\n"
     ]
    },
    {
     "name": "stderr",
     "output_type": "stream",
     "text": [
      " 62%|██████████████████████████▋                | 23/37 [02:53<01:45,  7.53s/it]"
     ]
    },
    {
     "name": "stdout",
     "output_type": "stream",
     "text": [
      "(750, 49329)\n"
     ]
    },
    {
     "name": "stderr",
     "output_type": "stream",
     "text": [
      " 65%|███████████████████████████▉               | 24/37 [03:01<01:37,  7.53s/it]"
     ]
    },
    {
     "name": "stdout",
     "output_type": "stream",
     "text": [
      "(750, 49329)\n"
     ]
    },
    {
     "name": "stderr",
     "output_type": "stream",
     "text": [
      " 68%|█████████████████████████████              | 25/37 [03:08<01:30,  7.53s/it]"
     ]
    },
    {
     "name": "stdout",
     "output_type": "stream",
     "text": [
      "(750, 49329)\n"
     ]
    },
    {
     "name": "stderr",
     "output_type": "stream",
     "text": [
      " 70%|██████████████████████████████▏            | 26/37 [03:16<01:22,  7.51s/it]"
     ]
    },
    {
     "name": "stdout",
     "output_type": "stream",
     "text": [
      "(750, 49329)\n"
     ]
    },
    {
     "name": "stderr",
     "output_type": "stream",
     "text": [
      " 73%|███████████████████████████████▍           | 27/37 [03:23<01:15,  7.52s/it]"
     ]
    },
    {
     "name": "stdout",
     "output_type": "stream",
     "text": [
      "(750, 49329)\n"
     ]
    },
    {
     "name": "stderr",
     "output_type": "stream",
     "text": [
      " 76%|████████████████████████████████▌          | 28/37 [03:31<01:07,  7.52s/it]"
     ]
    },
    {
     "name": "stdout",
     "output_type": "stream",
     "text": [
      "(750, 49329)\n"
     ]
    },
    {
     "name": "stderr",
     "output_type": "stream",
     "text": [
      " 78%|█████████████████████████████████▋         | 29/37 [03:38<01:00,  7.52s/it]"
     ]
    },
    {
     "name": "stdout",
     "output_type": "stream",
     "text": [
      "(750, 49329)\n"
     ]
    },
    {
     "name": "stderr",
     "output_type": "stream",
     "text": [
      " 81%|██████████████████████████████████▊        | 30/37 [03:46<00:52,  7.54s/it]"
     ]
    },
    {
     "name": "stdout",
     "output_type": "stream",
     "text": [
      "(750, 49329)\n"
     ]
    },
    {
     "name": "stderr",
     "output_type": "stream",
     "text": [
      " 84%|████████████████████████████████████       | 31/37 [03:53<00:45,  7.54s/it]"
     ]
    },
    {
     "name": "stdout",
     "output_type": "stream",
     "text": [
      "(750, 49329)\n"
     ]
    },
    {
     "name": "stderr",
     "output_type": "stream",
     "text": [
      " 86%|█████████████████████████████████████▏     | 32/37 [04:01<00:37,  7.54s/it]"
     ]
    },
    {
     "name": "stdout",
     "output_type": "stream",
     "text": [
      "(750, 49329)\n"
     ]
    },
    {
     "name": "stderr",
     "output_type": "stream",
     "text": [
      " 89%|██████████████████████████████████████▎    | 33/37 [04:08<00:30,  7.53s/it]"
     ]
    },
    {
     "name": "stdout",
     "output_type": "stream",
     "text": [
      "(750, 49329)\n"
     ]
    },
    {
     "name": "stderr",
     "output_type": "stream",
     "text": [
      " 92%|███████████████████████████████████████▌   | 34/37 [04:16<00:22,  7.52s/it]"
     ]
    },
    {
     "name": "stdout",
     "output_type": "stream",
     "text": [
      "(750, 49329)\n"
     ]
    },
    {
     "name": "stderr",
     "output_type": "stream",
     "text": [
      " 95%|████████████████████████████████████████▋  | 35/37 [04:23<00:15,  7.55s/it]"
     ]
    },
    {
     "name": "stdout",
     "output_type": "stream",
     "text": [
      "(750, 49329)\n"
     ]
    },
    {
     "name": "stderr",
     "output_type": "stream",
     "text": [
      " 97%|█████████████████████████████████████████▊ | 36/37 [04:31<00:07,  7.54s/it]"
     ]
    },
    {
     "name": "stdout",
     "output_type": "stream",
     "text": [
      "(750, 49329)\n"
     ]
    },
    {
     "name": "stderr",
     "output_type": "stream",
     "text": [
      "100%|███████████████████████████████████████████| 37/37 [04:38<00:00,  7.54s/it]"
     ]
    },
    {
     "name": "stdout",
     "output_type": "stream",
     "text": [
      "(750, 49329)\n",
      "(750, 49329)\n",
      "(1500, 49329)\n",
      "(2250, 49329)\n"
     ]
    },
    {
     "name": "stderr",
     "output_type": "stream",
     "text": [
      "\n"
     ]
    },
    {
     "name": "stdout",
     "output_type": "stream",
     "text": [
      "(3000, 49329)\n",
      "(3750, 49329)\n",
      "(4500, 49329)\n",
      "(5250, 49329)\n",
      "(6000, 49329)\n",
      "(6750, 49329)\n",
      "(7500, 49329)\n",
      "(8250, 49329)\n",
      "(9000, 49329)\n",
      "(9750, 49329)\n",
      "(10500, 49329)\n",
      "(11250, 49329)\n",
      "(12000, 49329)\n",
      "(12750, 49329)\n",
      "(13500, 49329)\n",
      "(14250, 49329)\n",
      "(15000, 49329)\n",
      "(15750, 49329)\n",
      "(16500, 49329)\n",
      "(17250, 49329)\n",
      "(18000, 49329)\n",
      "(18750, 49329)\n",
      "(19500, 49329)\n",
      "(20250, 49329)\n",
      "(21000, 49329)\n",
      "(21750, 49329)\n",
      "(22500, 49329)\n",
      "(23250, 49329)\n",
      "(24000, 49329)\n",
      "(24750, 49329)\n",
      "(25500, 49329)\n",
      "(26250, 49329)\n",
      "(27000, 49329)\n",
      "(27750, 49329)\n",
      "saved betas_subj01_thresholded_wholebrain.hdf5\n"
     ]
    },
    {
     "ename": "NameError",
     "evalue": "name 'err' is not defined",
     "output_type": "error",
     "traceback": [
      "\u001b[0;31m---------------------------------------------------------------------------\u001b[0m",
      "\u001b[0;31mNameError\u001b[0m                                 Traceback (most recent call last)",
      "Input \u001b[0;32mIn [9]\u001b[0m, in \u001b[0;36m<cell line: 1>\u001b[0;34m()\u001b[0m\n\u001b[1;32m    149\u001b[0m         f\u001b[38;5;241m.\u001b[39mcreate_dataset(\u001b[38;5;124m'\u001b[39m\u001b[38;5;124mbetas\u001b[39m\u001b[38;5;124m'\u001b[39m, data\u001b[38;5;241m=\u001b[39mbetas_all)\n\u001b[1;32m    150\u001b[0m     \u001b[38;5;28mprint\u001b[39m(\u001b[38;5;124mf\u001b[39m\u001b[38;5;124m\"\u001b[39m\u001b[38;5;124msaved betas_\u001b[39m\u001b[38;5;132;01m{\u001b[39;00msubject\u001b[38;5;132;01m}\u001b[39;00m\u001b[38;5;124m_thresholded_wholebrain.hdf5\u001b[39m\u001b[38;5;124m\"\u001b[39m)\n\u001b[0;32m--> 151\u001b[0m     \u001b[43merr\u001b[49m\n\u001b[1;32m    153\u001b[0m os\u001b[38;5;241m.\u001b[39mmakedirs(\u001b[38;5;124mf\u001b[39m\u001b[38;5;124m\"\u001b[39m\u001b[38;5;132;01m{\u001b[39;00mtmp\u001b[38;5;132;01m}\u001b[39;00m\u001b[38;5;124m/mindeyev2_wds/\u001b[39m\u001b[38;5;132;01m{\u001b[39;00msubj\u001b[38;5;132;01m}\u001b[39;00m\u001b[38;5;124m\"\u001b[39m,exist_ok\u001b[38;5;241m=\u001b[39m\u001b[38;5;28;01mTrue\u001b[39;00m)\n\u001b[1;32m    154\u001b[0m os\u001b[38;5;241m.\u001b[39mmakedirs(\u001b[38;5;124mf\u001b[39m\u001b[38;5;124m\"\u001b[39m\u001b[38;5;132;01m{\u001b[39;00mtmp\u001b[38;5;132;01m}\u001b[39;00m\u001b[38;5;124m/mindeyev2_wds/\u001b[39m\u001b[38;5;132;01m{\u001b[39;00msubj\u001b[38;5;132;01m}\u001b[39;00m\u001b[38;5;124m/train\u001b[39m\u001b[38;5;124m\"\u001b[39m,exist_ok\u001b[38;5;241m=\u001b[39m\u001b[38;5;28;01mTrue\u001b[39;00m)\n",
      "\u001b[0;31mNameError\u001b[0m: name 'err' is not defined"
     ]
    }
   ],
   "source": [
    "for sub in [0]: #,1,2,3,4,5,6,7]:\n",
    "    subject=f'subj0{sub+1}'\n",
    "    subj=subject\n",
    "    print(subject)\n",
    "    \n",
    "    abs_cnt = -1\n",
    "    abs_notshared1000_cnt = -1\n",
    "    abs_shared1000_cnt = -1\n",
    "    \n",
    "    # load coco 73k indices\n",
    "    indices_path = \"COCO_73k_subj_indices.hdf5\"\n",
    "    hdf5_file = h5py.File(indices_path, \"r\")\n",
    "    indices = hdf5_file[f\"{subj}\"][:]\n",
    "\n",
    "    nsessions_allsubj=np.array([40, 40, 32, 30, 40, 32, 40, 30])-3 # 3 sessions are withheld for algonauts \n",
    "    nsessions=nsessions_allsubj[sub];\n",
    "    ntrials = 750*nsessions\n",
    "    print(nsessions,ntrials)\n",
    "\n",
    "    print(time.strftime(\"\\nCurrent time: %H:%M:%S\", time.localtime())) \n",
    "    \n",
    "    file = f\"/scratch/gpfs/KNORMAN/natural-scenes-dataset/nsddata/ppdata/{subject}/func1pt8mm/roi/nsdgeneral.nii.gz\"\n",
    "    nifti = nib.load(file) \n",
    "    mask = nifti.get_data()\n",
    "    mask[mask<1] = 0 \n",
    "    nsdgeneral_mask = mask\n",
    "    \n",
    "    file = f\"/scratch/gpfs/KNORMAN/natural-scenes-dataset/nsddata/ppdata/{subject}/func1pt8mm/brainmask.nii.gz\"\n",
    "    nifti = nib.load(file) \n",
    "    mask = nifti.get_data()\n",
    "    mask[mask<1] = 0 \n",
    "    wholebrain_mask = mask + nsdgeneral_mask\n",
    "    \n",
    "    # only include below lines if you want to save the vox_include\n",
    "    # vox_include = nsdgeneral_mask\n",
    "    # vox_include = wholebrain_mask\n",
    "#     np.save(f\"vox_include_{subject}\", vox_include)\n",
    "    \n",
    "    # vox_include = np.load(f\"vox_include_{subject}.npy\")\n",
    "    # vox_include = vox_include.reshape(-1)\n",
    "\n",
    "    for tar in tqdm(range(nsessions)):\n",
    "        sess=tar+1\n",
    "        \n",
    "        behav = nsda.read_behavior(subject=subject, \n",
    "                    session_index=sess, \n",
    "                    trial_index=[]) \n",
    "\n",
    "        # pull single-trial betas and mask them\n",
    "        betas = nsda.read_betas(subject=subject, \n",
    "                            session_index=sess, \n",
    "                            trial_index=[], # empty list as index means get all for this session\n",
    "                            data_type='betas_fithrf', # GLMSingle beta2\n",
    "                            data_format='func1pt8mm') \n",
    "\n",
    "        # betas = betas[mask]\n",
    "        betas = np.moveaxis(betas,-1,0)\n",
    "        \n",
    "        vox_include = copy.deepcopy(wholebrain_mask)\n",
    "        ncsnr = nib.load(f\"{subject}_ncsnr.nii.gz\").get_fdata()\n",
    "        ncsnr[ncsnr<.15] = np.nan \n",
    "        if tar==0: print(\"voxels left:\", len(vox_include[vox_include>0]))\n",
    "        vox_include[np.isnan(ncsnr)] -= 1 # keep all nsdgeneral voxels even if they are below the threshold\n",
    "        vox_include[vox_include<0] = 0\n",
    "        if tar==0: print(\"voxels left after ncsnr thresholding:\", len(vox_include[vox_include>0])) # subj01 = 49329\n",
    "        \n",
    "        if downsampling:\n",
    "            kernel = np.ones((down_scale, down_scale, down_scale)) / (down_scale*down_scale*down_scale)\n",
    "            \n",
    "            # Pad data to make dimensions divisible by down_scale\n",
    "            pad_dims = [(0, 0) if d == 750 else (0, down_scale - (d % down_scale)) for d in betas.shape]\n",
    "            betas = np.pad(betas, pad_dims, mode='constant')\n",
    "            vox_include = np.pad(vox_include, pad_dims[1:], mode='constant')\n",
    "            \n",
    "            assert betas.shape[1:] == vox_include.shape\n",
    "            \n",
    "#             shape = (750, betas.shape[1]//down_scale, betas.shape[2]//down_scale, betas.shape[3]//down_scale)\n",
    "#             downsampled_betas = np.zeros(shape)\n",
    "#             downsampled_mask = np.zeros((vox_include.shape[0]//down_scale, vox_include.shape[1]//down_scale, vox_include.shape[2]//down_scale))\n",
    "            \n",
    "#             assert downsampled_betas.shape[1:] == downsampled_mask.shape\n",
    "            \n",
    "    #####\n",
    "            downsampled_betas = np.zeros((750, betas.shape[1]//down_scale, betas.shape[2]//down_scale, betas.shape[3]//down_scale))\n",
    "            count_nonzero = np.zeros((750, betas.shape[1]//down_scale, betas.shape[2]//down_scale, betas.shape[3]//down_scale))\n",
    "            binary_mask = (betas != 0).astype(float)\n",
    "            \n",
    "            downsampled_voxinclude = np.zeros((betas.shape[1]//down_scale, betas.shape[2]//down_scale, betas.shape[3]//down_scale))\n",
    "            count_voxinclude = np.zeros((betas.shape[1]//down_scale, betas.shape[2]//down_scale, betas.shape[3]//down_scale))\n",
    "            binary_inc = (vox_include != 0).astype(float)\n",
    "            \n",
    "            for t in range(750):\n",
    "                downsampled_betas[t] = convolve(betas[t], kernel, mode='nearest')[::down_scale, ::down_scale, ::down_scale]\n",
    "                count_nonzero[t] = convolve(binary_mask[t], kernel, mode='nearest')[::down_scale, ::down_scale, ::down_scale]\n",
    "            downsampled_voxinclude = convolve(vox_include, kernel, mode='nearest')[::down_scale, ::down_scale, ::down_scale]\n",
    "            count_voxinclude = convolve(binary_inc, kernel, mode='nearest')[::down_scale, ::down_scale, ::down_scale]\n",
    "            \n",
    "            # Element-wise division to get average, but only for non-zero counts\n",
    "            downsampled_betas[count_nonzero != 0] /= count_nonzero[count_nonzero != 0]\n",
    "            downsampled_voxinclude[count_voxinclude != 0] /= count_voxinclude[count_voxinclude != 0]\n",
    "    #####\n",
    "#             for t in range(750):\n",
    "#                 for x in range(0, betas.shape[1] - down_scale, down_scale):\n",
    "#                     for y in range(0, betas.shape[2] - down_scale, down_scale):\n",
    "#                         for z in range(0, betas.shape[3] - down_scale, down_scale):\n",
    "#                             chunk = betas[t, x:x+down_scale, y:y+down_scale, z:z+down_scale]\n",
    "#                             count = np.count_nonzero(chunk)\n",
    "#                             if count > 0:\n",
    "#                                 downsampled_betas[t, x//down_scale, y//down_scale, z//down_scale] = np.sum(chunk) / count\n",
    "\n",
    "#             for x in range(0, vox_include.shape[0] - down_scale, down_scale):\n",
    "#                 for y in range(0, vox_include.shape[1] - down_scale, down_scale):\n",
    "#                     for z in range(0, vox_include.shape[2] - down_scale, down_scale):\n",
    "#                         chunk = vox_include[x:x+down_scale, y:y+down_scale, z:z+down_scale]\n",
    "#                         downsampled_mask[x//down_scale, y//down_scale, z//down_scale] = np.mean(chunk)\n",
    "\n",
    "            betas = downsampled_betas  \n",
    "            vox_include = downsampled_voxinclude #downsampled_mask\n",
    "            vox_include = vox_include.reshape(-1)\n",
    "            \n",
    "        betas = betas.reshape(len(betas),-1)\n",
    "        betas = betas[:,vox_include.flatten().astype(bool)]\n",
    "        shape = betas.shape\n",
    "        scalar = StandardScaler(with_mean=True, with_std=True).fit(betas) \n",
    "        betas_mean = scalar.mean_\n",
    "        betas_std = scalar.scale_\n",
    "\n",
    "        betas = (betas - betas_mean) / betas_std\n",
    "        betas = betas.reshape(shape).astype('float16') # (1, 15724)    \n",
    "        \n",
    "        globals()[f'betas_ses{sess}'] = betas  \n",
    "        globals()[f'behav_ses{sess}'] = behav   \n",
    "        print(betas.shape)\n",
    "        \n",
    "    for tar in range(nsessions):\n",
    "        sess=tar+1\n",
    "        \n",
    "        if sess==1:\n",
    "            betas_all = globals()[f'betas_ses{sess}']\n",
    "        else:\n",
    "            betas_all = np.vstack((betas_all,globals()[f'betas_ses{sess}']))\n",
    "        print(betas_all.shape)\n",
    "        \n",
    "    if downsampling:\n",
    "        with h5py.File(f'betas_9mm_{subject}_convolved.hdf5', 'w') as f:\n",
    "            f.create_dataset('betas', data=betas_all)\n",
    "    else:\n",
    "        with h5py.File(f'betas_{subject}_thresholded_wholebrain.hdf5', 'w') as f:\n",
    "            f.create_dataset('betas', data=betas_all)\n",
    "        print(f\"saved betas_{subject}_thresholded_wholebrain.hdf5\")\n",
    "        err\n",
    "        \n",
    "    os.makedirs(f\"{tmp}/mindeyev2_wds/{subj}\",exist_ok=True)\n",
    "    os.makedirs(f\"{tmp}/mindeyev2_wds/{subj}/train\",exist_ok=True)\n",
    "    os.makedirs(f\"{tmp}/mindeyev2_wds/{subj}/test\",exist_ok=True)\n",
    "    sink1 = wds.TarWriter(f\"{tmp}/mindeyev2_wds/{subj}/test/0.tar\")\n",
    "    for tar in tqdm(range(nsessions)):\n",
    "        behav = globals()[f'behav_ses{tar+1}']\n",
    "        \n",
    "        sink2 = wds.TarWriter(f\"{tmp}/mindeyev2_wds/{subj}/train/{tar}.tar\")\n",
    "        for i in range(len(behav)):\n",
    "            abs_cnt += 1                \n",
    "\n",
    "            trial_numbers = np.where(indices==indices[abs_cnt])[0]\n",
    "            assert np.isin(abs_cnt,trial_numbers)\n",
    "            trial_numbers[trial_numbers == abs_cnt] = -1 # current trial becomes negative 1\n",
    "            if len(trial_numbers) == 1:\n",
    "                trial_numbers = np.append(trial_numbers, -1)\n",
    "                trial_numbers = np.append(trial_numbers, -1)\n",
    "            if len(trial_numbers) == 2:\n",
    "                trial_numbers = np.append(trial_numbers, -1)\n",
    "            assert len(trial_numbers) == 3\n",
    "\n",
    "            sess=tar+1\n",
    "            behav = globals()[f'behav_ses{sess}']\n",
    "            behav_matrix = np.ones((1, 17))*-1\n",
    "            jjj=-1\n",
    "            for j in range(1):\n",
    "                jj = i-j\n",
    "                jjj += 1\n",
    "\n",
    "                if jj >= 0:\n",
    "                    # change NaNs to negative-one integers\n",
    "                    iscorrect = behav.iloc[jj]['ISCORRECT']\n",
    "                    if np.isnan(iscorrect): iscorrect = -1\n",
    "\n",
    "                    isoldcurrent = behav.iloc[jj]['ISOLDCURRENT']\n",
    "                    if np.isnan(isoldcurrent): isoldcurrent = -1\n",
    "\n",
    "                    iscorrectcurrent = behav.iloc[jj]['ISCORRECTCURRENT']\n",
    "                    if np.isnan(iscorrectcurrent): iscorrectcurrent = -1\n",
    "\n",
    "                    rt = behav.iloc[jj]['RT']\n",
    "                    if np.isnan(rt): rt = -1\n",
    "\n",
    "                    changemind = behav.iloc[jj]['CHANGEMIND']\n",
    "                    if np.isnan(changemind): changemind = -1\n",
    "\n",
    "                    button = behav.iloc[jj]['BUTTON']\n",
    "                    if np.isnan(button): button = -1\n",
    "\n",
    "                    total1 = behav.iloc[jj]['TOTAL1']\n",
    "                    if np.isnan(total1): total1 = -1\n",
    "\n",
    "                    total2 = behav.iloc[jj]['TOTAL2']\n",
    "                    if np.isnan(total2): total2 = -1\n",
    "                    \n",
    "                    coco73 = int(behav.iloc[jj]['73KID'])-1\n",
    "                    assert coco73 >= 0 and coco73 < 730000\n",
    "\n",
    "                    behavior = {\n",
    "                        \"cocoidx\": coco73, #0\n",
    "                        \"subject\": sub+1,                          #1\n",
    "                        \"session\": int(behav.iloc[jj]['SESSION']), #2\n",
    "                        \"run\": int(behav.iloc[jj]['RUN']),         #3\n",
    "                        \"trial\": int(behav.iloc[jj]['TRIAL']),     #4\n",
    "                        \"global_trial\": (int(behav.iloc[jj]['SESSION'])-1)*750 + jj,        #5\n",
    "                        \"time\": int(behav.iloc[jj]['TIME']),       #6\n",
    "                        \"isold\": int(behav.iloc[jj]['ISOLD']),     #7\n",
    "                        \"iscorrect\": iscorrect,                    #8\n",
    "                        \"rt\": rt, # 0 = no RT                      #9\n",
    "                        \"changemind\": changemind,                  #10\n",
    "                        \"isoldcurrent\": isoldcurrent,              #11\n",
    "                        \"iscorrectcurrent\": iscorrectcurrent,      #12\n",
    "                        \"total1\": total1,   #13\n",
    "                        \"total2\": total2,   #14\n",
    "                        \"button\": button,                          #15\n",
    "                        \"shared1000\": shared1000[int(behav.iloc[jj]['73KID'])-1], #16\n",
    "                    }\n",
    "                    \n",
    "                    assert (int(behav.iloc[jj]['SESSION'])-1)*750 + jj >= 0\n",
    "                    assert (int(behav.iloc[jj]['SESSION'])-1)*750 + jj < 27750\n",
    "\n",
    "                    behav_matrix[jjj] = np.array(list(behavior.values()))\n",
    "                    \n",
    "            past_behav_matrix = np.ones((15, 17))*-1\n",
    "            jjj=-1\n",
    "            for j in range(1,16):\n",
    "                jj = i-j\n",
    "                jjj += 1\n",
    "\n",
    "                if jj >= 0:\n",
    "                    # change NaNs to negative-one integers\n",
    "                    iscorrect = behav.iloc[jj]['ISCORRECT']\n",
    "                    if np.isnan(iscorrect): iscorrect = -1\n",
    "\n",
    "                    isoldcurrent = behav.iloc[jj]['ISOLDCURRENT']\n",
    "                    if np.isnan(isoldcurrent): isoldcurrent = -1\n",
    "\n",
    "                    iscorrectcurrent = behav.iloc[jj]['ISCORRECTCURRENT']\n",
    "                    if np.isnan(iscorrectcurrent): iscorrectcurrent = -1\n",
    "\n",
    "                    rt = behav.iloc[jj]['RT']\n",
    "                    if np.isnan(rt): rt = -1\n",
    "\n",
    "                    changemind = behav.iloc[jj]['CHANGEMIND']\n",
    "                    if np.isnan(changemind): changemind = -1\n",
    "\n",
    "                    button = behav.iloc[jj]['BUTTON']\n",
    "                    if np.isnan(button): button = -1\n",
    "\n",
    "                    total1 = behav.iloc[jj]['TOTAL1']\n",
    "                    if np.isnan(total1): total1 = -1\n",
    "\n",
    "                    total2 = behav.iloc[jj]['TOTAL2']\n",
    "                    if np.isnan(total2): total2 = -1\n",
    "                    \n",
    "                    coco73 = int(behav.iloc[jj]['73KID'])-1\n",
    "                    assert coco73 >= 0 and coco73 < 730000\n",
    "\n",
    "                    behavior = {\n",
    "                        \"cocoidx\": coco73, #0\n",
    "                        \"subject\": sub+1,                          #1\n",
    "                        \"session\": int(behav.iloc[jj]['SESSION']), #2\n",
    "                        \"run\": int(behav.iloc[jj]['RUN']),         #3\n",
    "                        \"trial\": int(behav.iloc[jj]['TRIAL']),     #4\n",
    "                        \"global_trial\": (int(behav.iloc[jj]['SESSION'])-1)*750 + jj,        #5\n",
    "                        \"time\": int(behav.iloc[jj]['TIME']),       #6\n",
    "                        \"isold\": int(behav.iloc[jj]['ISOLD']),     #7\n",
    "                        \"iscorrect\": iscorrect,                    #8\n",
    "                        \"rt\": rt, # 0 = no RT                      #9\n",
    "                        \"changemind\": changemind,                  #10\n",
    "                        \"isoldcurrent\": isoldcurrent,              #11\n",
    "                        \"iscorrectcurrent\": iscorrectcurrent,      #12\n",
    "                        \"total1\": total1,   #13\n",
    "                        \"total2\": total2,   #14\n",
    "                        \"button\": button,                          #15\n",
    "                        \"shared1000\": shared1000[int(behav.iloc[jj]['73KID'])-1], #16\n",
    "                    }\n",
    "                    \n",
    "                    assert (int(behav.iloc[jj]['SESSION'])-1)*750 + jj >= 0\n",
    "                    assert (int(behav.iloc[jj]['SESSION'])-1)*750 + jj < 27750\n",
    "\n",
    "                    past_behav_matrix[jjj] = np.array(list(behavior.values()))\n",
    "                    \n",
    "            future_behav_matrix = np.ones((15, 17))*-1\n",
    "            jjj=-1\n",
    "            for j in range(1,16):\n",
    "                jj = i+j\n",
    "                jjj += 1\n",
    "\n",
    "                if jj >= 0 and jj<750:\n",
    "                    # change NaNs to negative-one integers\n",
    "                    iscorrect = behav.iloc[jj]['ISCORRECT']\n",
    "                    if np.isnan(iscorrect): iscorrect = -1\n",
    "\n",
    "                    isoldcurrent = behav.iloc[jj]['ISOLDCURRENT']\n",
    "                    if np.isnan(isoldcurrent): isoldcurrent = -1\n",
    "\n",
    "                    iscorrectcurrent = behav.iloc[jj]['ISCORRECTCURRENT']\n",
    "                    if np.isnan(iscorrectcurrent): iscorrectcurrent = -1\n",
    "\n",
    "                    rt = behav.iloc[jj]['RT']\n",
    "                    if np.isnan(rt): rt = -1\n",
    "\n",
    "                    changemind = behav.iloc[jj]['CHANGEMIND']\n",
    "                    if np.isnan(changemind): changemind = -1\n",
    "\n",
    "                    button = behav.iloc[jj]['BUTTON']\n",
    "                    if np.isnan(button): button = -1\n",
    "\n",
    "                    total1 = behav.iloc[jj]['TOTAL1']\n",
    "                    if np.isnan(total1): total1 = -1\n",
    "\n",
    "                    total2 = behav.iloc[jj]['TOTAL2']\n",
    "                    if np.isnan(total2): total2 = -1\n",
    "                    \n",
    "                    coco73 = int(behav.iloc[jj]['73KID'])-1\n",
    "                    assert coco73 >= 0 and coco73 < 730000\n",
    "\n",
    "                    behavior = {\n",
    "                        \"cocoidx\": coco73, #0\n",
    "                        \"subject\": sub+1,                          #1\n",
    "                        \"session\": int(behav.iloc[jj]['SESSION']), #2\n",
    "                        \"run\": int(behav.iloc[jj]['RUN']),         #3\n",
    "                        \"trial\": int(behav.iloc[jj]['TRIAL']),     #4\n",
    "                        \"global_trial\": (int(behav.iloc[jj]['SESSION'])-1)*750 + jj,        #5\n",
    "                        \"time\": int(behav.iloc[jj]['TIME']),       #6\n",
    "                        \"isold\": int(behav.iloc[jj]['ISOLD']),     #7\n",
    "                        \"iscorrect\": iscorrect,                    #8\n",
    "                        \"rt\": rt, # 0 = no RT                      #9\n",
    "                        \"changemind\": changemind,                  #10\n",
    "                        \"isoldcurrent\": isoldcurrent,              #11\n",
    "                        \"iscorrectcurrent\": iscorrectcurrent,      #12\n",
    "                        \"total1\": total1,   #13\n",
    "                        \"total2\": total2,   #14\n",
    "                        \"button\": button,                          #15\n",
    "                        \"shared1000\": shared1000[int(behav.iloc[jj]['73KID'])-1], #16\n",
    "                    }\n",
    "                    \n",
    "                    assert (int(behav.iloc[jj]['SESSION'])-1)*750 + jj >= 0\n",
    "                    assert (int(behav.iloc[jj]['SESSION'])-1)*750 + jj < 27750\n",
    "\n",
    "                    future_behav_matrix[jjj] = np.array(list(behavior.values()))\n",
    "\n",
    "            olds_behav_matrix = np.ones((3, 17))*-1\n",
    "            jjj=-1\n",
    "            for j in range(3):\n",
    "                jj = trial_numbers[j]\n",
    "\n",
    "                if jj>=0:\n",
    "                    jjj += 1\n",
    "                    old_session = int(np.floor(jj / 750)) + 1\n",
    "                    old_trial = jj % 750\n",
    "                    behav = globals()[f'behav_ses{old_session}']\n",
    "                    jj = old_trial\n",
    "\n",
    "                    # change NaNs to negative-one integers\n",
    "                    iscorrect = behav.iloc[jj]['ISCORRECT']\n",
    "                    if np.isnan(iscorrect): iscorrect = -1\n",
    "\n",
    "                    isoldcurrent = behav.iloc[jj]['ISOLDCURRENT']\n",
    "                    if np.isnan(isoldcurrent): isoldcurrent = -1\n",
    "\n",
    "                    iscorrectcurrent = behav.iloc[jj]['ISCORRECTCURRENT']\n",
    "                    if np.isnan(iscorrectcurrent): iscorrectcurrent = -1\n",
    "\n",
    "                    rt = behav.iloc[jj]['RT']\n",
    "                    if np.isnan(rt): rt = -1\n",
    "\n",
    "                    changemind = behav.iloc[jj]['CHANGEMIND']\n",
    "                    if np.isnan(changemind): changemind = -1\n",
    "\n",
    "                    button = behav.iloc[jj]['BUTTON']\n",
    "                    if np.isnan(button): button = -1\n",
    "\n",
    "                    total1 = behav.iloc[jj]['TOTAL1']\n",
    "                    if np.isnan(total1): total1 = -1\n",
    "\n",
    "                    total2 = behav.iloc[jj]['TOTAL2']\n",
    "                    if np.isnan(total2): total2 = -1\n",
    "                    \n",
    "                    coco73 = int(behav.iloc[jj]['73KID'])-1\n",
    "                    assert coco73 >= 0 and coco73 < 730000\n",
    "\n",
    "                    behavior = {\n",
    "                        \"cocoidx\": coco73, #0\n",
    "                        \"subject\": sub+1,                          #1\n",
    "                        \"session\": int(behav.iloc[jj]['SESSION']), #2\n",
    "                        \"run\": int(behav.iloc[jj]['RUN']),         #3\n",
    "                        \"trial\": int(behav.iloc[jj]['TRIAL']),     #4\n",
    "                        \"global_trial\": (int(behav.iloc[jj]['SESSION'])-1)*750 + jj,        #5\n",
    "                        \"time\": int(behav.iloc[jj]['TIME']),       #6\n",
    "                        \"isold\": int(behav.iloc[jj]['ISOLD']),     #7\n",
    "                        \"iscorrect\": iscorrect,                    #8\n",
    "                        \"rt\": rt, # 0 = no RT                      #9\n",
    "                        \"changemind\": changemind,                  #10\n",
    "                        \"isoldcurrent\": isoldcurrent,              #11\n",
    "                        \"iscorrectcurrent\": iscorrectcurrent,      #12\n",
    "                        \"total1\": total1,   #13\n",
    "                        \"total2\": total2,   #14\n",
    "                        \"button\": button,                          #15\n",
    "                        \"shared1000\": shared1000[int(behav.iloc[jj]['73KID'])-1], #16\n",
    "                    }\n",
    "                    \n",
    "                    assert (int(behav.iloc[jj]['SESSION'])-1)*750 + jj >= 0\n",
    "                    assert (int(behav.iloc[jj]['SESSION'])-1)*750 + jj < 27750\n",
    "\n",
    "                    olds_behav_matrix[jjj] = np.array(list(behavior.values()))\n",
    "\n",
    "            behav = globals()[f'behav_ses{sess}']\n",
    "            # Check if this is a shared1000 trial\n",
    "            if shared1000[int(behav.iloc[i]['73KID'])-1]:\n",
    "                abs_shared1000_cnt += 1\n",
    "            else:\n",
    "                abs_notshared1000_cnt += 1\n",
    "                \n",
    "            with torch.no_grad(): #https://cvnlab.slite.page/p/fRv4lz5V2F/Untitled\n",
    "                if shared1000[int(behav.iloc[i]['73KID'])-1]:\n",
    "                    sink1.write({\n",
    "                        \"__key__\": \"sample%09d\" % abs_shared1000_cnt,\n",
    "                        \"behav.npy\": behav_matrix,\n",
    "                        \"past_behav.npy\": past_behav_matrix,\n",
    "                        \"future_behav.npy\": future_behav_matrix,\n",
    "                        \"olds_behav.npy\": olds_behav_matrix,\n",
    "                    })\n",
    "                    assert behav_matrix[-1,0] < 73000\n",
    "                else:\n",
    "                    sink2.write({\n",
    "                        \"__key__\": \"sample%09d\" % abs_notshared1000_cnt,\n",
    "                        \"behav.npy\": behav_matrix,\n",
    "                        \"past_behav.npy\": past_behav_matrix,\n",
    "                        \"future_behav.npy\": future_behav_matrix,\n",
    "                        \"olds_behav.npy\": olds_behav_matrix,\n",
    "                    })\n",
    "                    assert behav_matrix[-1,0] < 73000\n",
    "        sink2.close()\n",
    "    sink1.close()\n",
    "    \n",
    "    print(time.strftime(\"\\nCurrent time: %H:%M:%S\", time.localtime())) "
   ]
  },
  {
   "cell_type": "code",
   "execution_count": 71,
   "id": "da70d664-9b37-4fbf-8265-01008751fa64",
   "metadata": {
    "tags": []
   },
   "outputs": [
    {
     "data": {
      "text/plain": [
       "(750, 699192)"
      ]
     },
     "execution_count": 71,
     "metadata": {},
     "output_type": "execute_result"
    }
   ],
   "source": [
    "# wget https://natural-scenes-dataset.s3.amazonaws.com/nsddata_betas/ppdata/subj01/func1pt8mm/betas_fithrf/ncsnr.nii.gz"
   ]
  },
  {
   "cell_type": "code",
   "execution_count": 9,
   "id": "42cea8f8-4b84-44e1-8ba6-25117ddaf17d",
   "metadata": {
    "tags": []
   },
   "outputs": [
    {
     "name": "stdout",
     "output_type": "stream",
     "text": [
      "(750, 17, 21, 17)\n",
      "(750, 17, 21, 17)\n"
     ]
    },
    {
     "data": {
      "image/png": "[encoded data removed]",
      "text/plain": [
       "<Figure size 864x432 with 2 Axes>"
      ]
     },
     "metadata": {
      "needs_background": "light"
     },
     "output_type": "display_data"
    }
   ],
   "source": [
    "print(betas.shape)\n",
    "print(downsampled_betas.shape)\n",
    "\n",
    "import matplotlib.pyplot as plt\n",
    "\n",
    "# Assume you want to visualize the slice at z=10 and at the first time point (t=0)\n",
    "z_coordinate = 10\n",
    "t_point = 10\n",
    "\n",
    "# Extract the 2D slice from the original and downsampled data\n",
    "original_slice = betas[t_point, :, :, z_coordinate]\n",
    "downsampled_slice = downsampled_betas[t_point, :, :, z_coordinate // 5]\n",
    "\n",
    "# Plotting\n",
    "fig, axes = plt.subplots(1, 2, figsize=(12, 6))\n",
    "\n",
    "axes[0].imshow(original_slice, clim=(-3000,3000), cmap=plt.get_cmap('hot'))\n",
    "axes[0].set_title('1.8mm')\n",
    "\n",
    "axes[1].imshow(downsampled_slice, clim=(-3000,3000), cmap=plt.get_cmap('hot'))\n",
    "axes[1].set_title('1cm')\n",
    "\n",
    "plt.show()"
   ]
  },
  {
   "cell_type": "code",
   "execution_count": 28,
   "id": "d535676d-ae24-4d51-91d9-e4a4f0f6ceff",
   "metadata": {
    "tags": []
   },
   "outputs": [
    {
     "data": {
      "text/plain": [
       "23030"
      ]
     },
     "execution_count": 28,
     "metadata": {},
     "output_type": "execute_result"
    }
   ],
   "source": [
    "original_slice.max()"
   ]
  },
  {
   "cell_type": "code",
   "execution_count": 12,
   "id": "b6fdc59a-86ed-4f88-875b-22415945cbb5",
   "metadata": {},
   "outputs": [],
   "source": [
    "# load betas\n",
    "f = h5py.File(f'betas_all_{subject}.hdf5', 'r')\n",
    "betas = f['betas'][:]\n",
    "\n",
    "# load orig images\n",
    "# f = h5py.File(f'{tmp}/natural-scenes-dataset/nsddata_stimuli/stimuli/nsd/nsd_stimuli.hdf5', 'r')\n",
    "f = h5py.File('coco_images_224_float16.hdf5', 'r')\n",
    "images = f['images'][:]"
   ]
  },
  {
   "cell_type": "code",
   "execution_count": 23,
   "id": "78f55df4-d1ab-4c4c-9941-c8328d012c88",
   "metadata": {
    "tags": []
   },
   "outputs": [
    {
     "name": "stdout",
     "output_type": "stream",
     "text": [
      "/scratch/gpfs/KNORMAN/mindeyev2_wds/subj01/train/0.tar\n",
      "/scratch/gpfs/KNORMAN/mindeyev2_wds/subj01/test/0.tar\n"
     ]
    }
   ],
   "source": [
    "# def pull_samples_from_idx(indices,dataset=images):\n",
    "#     indices = indices.long()\n",
    "#     sort_order = torch.argsort(indices)\n",
    "#     inverse_sort_order = torch.argsort(sort_order)\n",
    "\n",
    "#     sorted_indices = indices[sort_order]\n",
    "#     duplicate_idx = torch.where(sorted_indices[1:] == sorted_indices[:-1])[0]\n",
    "\n",
    "#     sorted_images = images[np.unique(indices[sort_order])]\n",
    "\n",
    "#     # add back in duplicates\n",
    "#     for d in duplicate_idx:\n",
    "#         sorted_images = np.insert(sorted_images, d, sorted_indices[d], axis=0)\n",
    "\n",
    "#     return sorted_images[inverse_sort_order]\n",
    "\n",
    "import random\n",
    "import tarfile\n",
    "\n",
    "batch_size = 32\n",
    "num_total = 27750\n",
    "def my_split_by_node(urls): return urls\n",
    "    \n",
    "train_url = f\"{tmp}/mindeyev2_wds/subj01/train/\" + \"0.tar\"\n",
    "print(train_url)\n",
    "\n",
    "train_data = wds.WebDataset(train_url,resampled=False,nodesplitter=my_split_by_node)\\\n",
    "                    .decode(\"torch\")\\\n",
    "                    .rename(behav=\"behav.npy\", olds_behav=\"olds_behav.npy\")\\\n",
    "                    .to_tuple(*[\"behav\", \"olds_behav\"])\n",
    "train_dl = torch.utils.data.DataLoader(train_data, batch_size=batch_size, shuffle=False, drop_last=True)\n",
    "\n",
    "test_url = f\"{tmp}/mindeyev2_wds/subj01/test/\" + \"0.tar\"\n",
    "print(test_url)\n",
    "test_data = wds.WebDataset(test_url,resampled=False,nodesplitter=my_split_by_node)\\\n",
    "                    .decode(\"torch\")\\\n",
    "                    .rename(behav=\"behav.npy\", olds_behav=\"olds_behav.npy\")\\\n",
    "                    .to_tuple(*[\"behav\", \"olds_behav\"])\n",
    "test_dl = torch.utils.data.DataLoader(test_data, batch_size=batch_size, shuffle=False, drop_last=True, pin_memory=True)"
   ]
  },
  {
   "cell_type": "code",
   "execution_count": 24,
   "id": "6df14873-606d-4007-b717-f65ea317dd14",
   "metadata": {
    "tags": []
   },
   "outputs": [
    {
     "name": "stderr",
     "output_type": "stream",
     "text": [
      "  0%|                                                   | 0/867 [00:00<?, ?it/s]"
     ]
    },
    {
     "name": "stdout",
     "output_type": "stream",
     "text": [
      "torch.Size([32, 33, 17])\n",
      "torch.Size([32, 3, 17])\n",
      "tensor([46002., 48617., 44980., 32625., 53052.,  4930., 32625.,  6431., 70335.,\n",
      "        36576., 57046.,  7659., 30373., 25959., 30373., 44980., 65414., 42171.,\n",
      "         5602., 21601., 62302.,  5301., 15492., 25287., 21601.,  6558., 70335.,\n",
      "        16723., 40575., 45595., 53052.,  9917.], dtype=torch.float64)\n",
      "tensor([1., 1., 1., 1., 1., 1., 1., 1., 1., 1., 1., 1., 1., 1., 1., 1., 1., 1.,\n",
      "        1., 1., 1., 1., 1., 1., 1., 1., 1., 1., 1., 1., 1., 1.],\n",
      "       dtype=torch.float64)\n",
      "tensor([ 1., 29., 36., 45., 56., 57., 28., 58.,  2.,  8., 28., 42., 49., 52.,\n",
      "         1.,  2., 14., 44., 45., 58., 59., 62.,  1.,  6., 15., 18., 31., 32.,\n",
      "        56., 33., 41., 44.], dtype=torch.float64)\n",
      "32\n"
     ]
    },
    {
     "name": "stderr",
     "output_type": "stream",
     "text": [
      "\n"
     ]
    }
   ],
   "source": [
    "for train_i, (behav, old_behav) in enumerate(tqdm(train_dl,total=num_total//batch_size)):\n",
    "#     # pull images from hdf5 (have to sort and unsort due to how hdf5 works)\n",
    "#     image = images[behav[:,-1,0].long()]\n",
    "\n",
    "#     # pull betas from hdf5 \n",
    "#     voxel = betas[behav[:,-1,5].long()]\n",
    "#     # memory_beta = pull_memory_samples_from_idx(behav[:,-1,5]-1,dataset=betas)\n",
    "    \n",
    "    if train_i < 1:\n",
    "        # print(image.shape)\n",
    "        # print(voxel.shape)\n",
    "        print(behav.shape)\n",
    "        print(old_behav.shape)\n",
    "        print(behav[:,-1,0])\n",
    "        print(behav[:,-1,2])\n",
    "        print(behav[:,-1,4])\n",
    "        break\n",
    "        \n",
    "print((train_i+1) * batch_size)"
   ]
  },
  {
   "cell_type": "code",
   "execution_count": 31,
   "id": "21929edb-d473-44ee-a16b-5b1512202cda",
   "metadata": {
    "tags": []
   },
   "outputs": [
    {
     "data": {
      "text/plain": [
       "tensor([46002,     0])"
      ]
     },
     "execution_count": 31,
     "metadata": {},
     "output_type": "execute_result"
    }
   ],
   "source": [
    "behav[0,-1,[0,5]].long()"
   ]
  },
  {
   "cell_type": "code",
   "execution_count": 32,
   "id": "c744236a-df24-406e-bb3a-c12adb37015a",
   "metadata": {
    "tags": []
   },
   "outputs": [
    {
     "data": {
      "text/plain": [
       "tensor([61882,     1])"
      ]
     },
     "execution_count": 32,
     "metadata": {},
     "output_type": "execute_result"
    }
   ],
   "source": [
    "bbehav[0,-1,[0,5]].long()"
   ]
  },
  {
   "cell_type": "code",
   "execution_count": 33,
   "id": "e866e1da-4561-4b44-bbf1-c6ef773fca7e",
   "metadata": {
    "tags": []
   },
   "outputs": [
    {
     "data": {
      "text/plain": [
       "(27750, 325803)"
      ]
     },
     "execution_count": 33,
     "metadata": {},
     "output_type": "execute_result"
    }
   ],
   "source": [
    "betas.shape"
   ]
  },
  {
   "cell_type": "code",
   "execution_count": 26,
   "id": "5641d0a8-32ce-4aba-89ab-3a0e48f2692f",
   "metadata": {
    "tags": []
   },
   "outputs": [
    {
     "data": {
      "text/plain": [
       "<matplotlib.image.AxesImage at 0x149ff0407c40>"
      ]
     },
     "execution_count": 26,
     "metadata": {},
     "output_type": "execute_result"
    },
    {
     "data": {
      "image/png": "[encoded data removed]",
      "text/plain": [
       "<Figure size 432x288 with 1 Axes>"
      ]
     },
     "metadata": {
      "needs_background": "light"
     },
     "output_type": "display_data"
    }
   ],
   "source": [
    "plt.imshow(images[46002].astype(np.float32).T)"
   ]
  },
  {
   "cell_type": "markdown",
   "id": "d143ce8a-e3b3-46b5-b45e-1972b26ef60b",
   "metadata": {},
   "source": [
    "# Transfer to HF"
   ]
  },
  {
   "cell_type": "code",
   "execution_count": 10,
   "id": "14125b71-5010-4eda-9d18-57791bf094b9",
   "metadata": {},
   "outputs": [
    {
     "data": {
      "application/vnd.jupyter.widget-view+json": {
       "model_id": "7bba9e5171c948d78467b5016b760d64",
       "version_major": 2,
       "version_minor": 0
      },
      "text/plain": [
       "VBox(children=(HTML(value='<center> <img\\nsrc=https://huggingface.co/front/assets/huggingface_logo-noborder.sv…"
      ]
     },
     "metadata": {},
     "output_type": "display_data"
    }
   ],
   "source": [
    "from huggingface_hub import notebook_login, upload_file\n",
    "notebook_login()"
   ]
  },
  {
   "cell_type": "code",
   "execution_count": 11,
   "id": "a24d6ace-a936-4deb-b0be-13084bf931ff",
   "metadata": {},
   "outputs": [
    {
     "name": "stdout",
     "output_type": "stream",
     "text": [
      "37\n"
     ]
    },
    {
     "data": {
      "text/plain": [
       "'https://huggingface.co/datasets/pscotti/mindeyev2/blob/main/betas_subj01_thresholded_wholebrain.hdf5'"
      ]
     },
     "execution_count": 11,
     "metadata": {},
     "output_type": "execute_result"
    }
   ],
   "source": [
    "from tqdm import tqdm\n",
    "tmp = '/scratch/gpfs/KNORMAN'\n",
    "\n",
    "subject = 'subj01'\n",
    "sub = int(subject[-1])\n",
    "\n",
    "nsessions_allsubj=np.array([40, 40, 32, 30, 40, 32, 40, 30])-3 # 3 sessions are withheld for algonauts \n",
    "nsessions=nsessions_allsubj[sub];\n",
    "print(nsessions)\n",
    "\n",
    "# for tar in tqdm(range(0,nsessions)):\n",
    "#     upload_file(\n",
    "#         path_or_fileobj=f\"{tmp}/mindeyev2_wds/{subject}/train/{tar}.tar\",\n",
    "#         path_in_repo=f\"wds/{subject}/train/{tar}.tar\",\n",
    "#         repo_id=\"pscotti/mindeyev2\",\n",
    "#         repo_type=\"dataset\")\n",
    "    \n",
    "# upload_file(\n",
    "#     path_or_fileobj=f\"{tmp}/mindeyev2_wds/{subject}/test/0.tar\",\n",
    "#     path_in_repo=f\"wds/{subject}/test/0.tar\",\n",
    "#     repo_id=\"pscotti/mindeyev2\",\n",
    "#     repo_type=\"dataset\")\n",
    "\n",
    "upload_file(\n",
    "    path_or_fileobj=f'betas_{subject}_thresholded_wholebrain.hdf5',\n",
    "    path_in_repo=f\"betas_{subject}_thresholded_wholebrain.hdf5\",\n",
    "    repo_id=\"pscotti/mindeyev2\",\n",
    "    repo_type=\"dataset\")"
   ]
  },
  {
   "cell_type": "code",
   "execution_count": null,
   "id": "6e2c974a-9847-4318-aa93-af7f8c110d1f",
   "metadata": {},
   "outputs": [],
   "source": []
  }
 ],
 "metadata": {
  "kernelspec": {
   "display_name": "Python 3 (ipykernel)",
   "language": "python",
   "name": "python3"
  },
  "language_info": {
   "codemirror_mode": {
    "name": "ipython",
    "version": 3
   },
   "file_extension": ".py",
   "mimetype": "text/x-python",
   "name": "python",
   "nbconvert_exporter": "python",
   "pygments_lexer": "ipython3",
   "version": "3.10.8"
  }
 },
 "nbformat": 4,
 "nbformat_minor": 5
}
